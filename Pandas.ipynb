{
 "cells": [
  {
   "cell_type": "code",
   "execution_count": 2,
   "metadata": {},
   "outputs": [
    {
     "name": "stdout",
     "output_type": "stream",
     "text": [
      "The autoreload extension is already loaded. To reload it, use:\n",
      "  %reload_ext autoreload\n"
     ]
    }
   ],
   "source": [
    "%load_ext autoreload\n",
    "%autoreload 2\n",
    "import pandas as pd\n",
    "import numpy as np\n",
    "import pandas_helper\n",
    "pd.set_option('display.max_rows', 200)"
   ]
  },
  {
   "cell_type": "code",
   "execution_count": 3,
   "metadata": {},
   "outputs": [],
   "source": [
    "df = pandas_helper.load_data(\"data/wikilanguage.tsv\")"
   ]
  },
  {
   "cell_type": "code",
   "execution_count": 5,
   "metadata": {},
   "outputs": [
    {
     "data": {
      "text/plain": [
       "26838727"
      ]
     },
     "execution_count": 5,
     "metadata": {},
     "output_type": "execute_result"
    }
   ],
   "source": [
    "len(df)"
   ]
  },
  {
   "cell_type": "code",
   "execution_count": 8,
   "metadata": {},
   "outputs": [
    {
     "data": {
      "text/plain": [
       "Index(['Q5029279', 'Q17672891', 'Q21287484', 'Q28457929', 'Q2608363',\n",
       "       'Q13265795', 'Q21188718', 'Q2684010', 'Q5029265', 'Q2569593', 'Q16',\n",
       "       'Q5029291', 'Q5029285', 'Q28977393', 'Q257304', 'Q1031917', 'Q5029278',\n",
       "       'Q5029289', 'Q13265725', 'Q14624136'],\n",
       "      dtype='object', name='concept_id')"
      ]
     },
     "execution_count": 8,
     "metadata": {},
     "output_type": "execute_result"
    }
   ],
   "source": [
    "pandas_helper.resolve_label(df, \"Canada\")"
   ]
  },
  {
   "cell_type": "code",
   "execution_count": null,
   "metadata": {},
   "outputs": [],
   "source": [
    "dataset[dataset.loc[dataset['sample_label'] == 'George Washington']]"
   ]
  },
  {
   "cell_type": "code",
   "execution_count": null,
   "metadata": {},
   "outputs": [],
   "source": [
    "# Memory Hungry Function\n",
    "top_concepts = pandas_helper.best_concepts(\n",
    "    dataset, sample=0.1, n=500\n",
    ")"
   ]
  },
  {
   "cell_type": "code",
   "execution_count": null,
   "metadata": {},
   "outputs": [],
   "source": [
    "films = instance_of(dataset, Concepts.FILM).drop(\n",
    "    index=[\n",
    "        \"Q2537294\", # All-Russia State Television and Radio Broadcas\n",
    "        \"Q11659568\", # Minami no Teiō \n",
    "    ]\n",
    ")"
   ]
  },
  {
   "cell_type": "code",
   "execution_count": null,
   "metadata": {},
   "outputs": [],
   "source": [
    "games = instance_of(dataset, Concepts.VIDEO_GAME).drop(\n",
    "    index=[\n",
    "        \n",
    "    ]\n",
    ")"
   ]
  },
  {
   "cell_type": "code",
   "execution_count": null,
   "metadata": {},
   "outputs": [],
   "source": [
    "top_ranked(games, \"frwiki\")"
   ]
  },
  {
   "cell_type": "code",
   "execution_count": null,
   "metadata": {},
   "outputs": [],
   "source": [
    "marginals = top_kl(films, \"enwiki\", \"jawiki\", marginals=True, importance_weight=1)[\"enwiki_title\"].reset_index()\n",
    "no_marginals = top_kl(films, \"enwiki\", \"jawiki\", marginals=True, importance_weight=2)[\"enwiki_title\"].reset_index()\n",
    "pandas.concat((marginals, no_marginals), axis=1)"
   ]
  }
 ],
 "metadata": {
  "kernelspec": {
   "display_name": "Python (wikilanguage)",
   "language": "python",
   "name": "wikilanguage"
  },
  "language_info": {
   "codemirror_mode": {
    "name": "ipython",
    "version": 3
   },
   "file_extension": ".py",
   "mimetype": "text/x-python",
   "name": "python",
   "nbconvert_exporter": "python",
   "pygments_lexer": "ipython3",
   "version": "3.7.3"
  }
 },
 "nbformat": 4,
 "nbformat_minor": 4
}
