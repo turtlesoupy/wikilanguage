{
 "cells": [
  {
   "cell_type": "markdown",
   "metadata": {},
   "source": [
    "# Wikilanguage Walkthrough for Dave\n",
    "\n",
    "This is an interactive notebook showing different operations you can perform using Wikilanguage. You can describe this as computing the \"most culturally relevant\" articles within a set of parameters\n",
    "\n",
    "**Calculation Modes**:\n",
    "- Most culturally relevant in English\n",
    "- Most culturally relevant to other cultures (e.g. Japan)\n",
    "- Under-appreciated by English speakers relative to another culture\n",
    "- Most obscure (least culturally relevant)\n",
    "\n",
    "**Narrowing (Boolean) Operations**:\n",
    "- Belonging / not belonging to a certain category (e.g. movies, cities, people)\n",
    "- Country of origin\n",
    "- Date of publication\n",
    "- Near to a location (e.g. within 50km of Palo Alto)\n",
    "\n",
    "**Grouping Modes**:\n",
    "- By date of release"
   ]
  },
  {
   "cell_type": "markdown",
   "metadata": {},
   "source": [
    "## Pre-Requirements\n",
    "Imports -- if something is not working here I've fucked up the requirements.txt"
   ]
  },
  {
   "cell_type": "code",
   "execution_count": 1,
   "metadata": {},
   "outputs": [],
   "source": [
    "%load_ext autoreload\n",
    "%autoreload 2\n",
    "from pathlib import Path\n",
    "import pandas as pd\n",
    "import numpy as np\n",
    "import pandas_helper\n",
    "from pandas_helper import Concepts, Countries\n",
    "from tqdm.notebook import tqdm\n",
    "import requests\n",
    "n_display = 20\n",
    "n_display_short = 10\n",
    "pd.set_option('display.max_rows', n_display)"
   ]
  },
  {
   "cell_type": "markdown",
   "metadata": {},
   "source": [
    "Dataset download -- this project contains code to recompute from scratch but it requires extensive set-up"
   ]
  },
  {
   "cell_type": "code",
   "execution_count": 2,
   "metadata": {},
   "outputs": [],
   "source": [
    "url = \"https://wikilanguage.storage.googleapis.com/wikilanguage.tsv.gz\"\n",
    "data_path = Path(\"data/wikilanguage.test.tsv.gz\")\n",
    "\n",
    "if not data_path.exists():\n",
    "    print(f\"Downloading dataset from {url}\")\n",
    "    data_path.parent.mkdir(exist_ok=True)\n",
    "    response = requests.get(url, stream=True)\n",
    "\n",
    "    with open(str(data_path), \"wb\") as handle:\n",
    "        for data in tqdm(response.iter_content(chunk_size=1*1024*1024), unit=\"mb\"):\n",
    "            handle.write(data)"
   ]
  },
  {
   "cell_type": "markdown",
   "metadata": {},
   "source": [
    "Load data file into dataframe"
   ]
  },
  {
   "cell_type": "code",
   "execution_count": null,
   "metadata": {},
   "outputs": [],
   "source": [
    "df = pandas_helper.load_data(data_path)"
   ]
  },
  {
   "cell_type": "markdown",
   "metadata": {},
   "source": [
    "## Demos\n",
    "### Movies\n",
    "Concept ids (e.g. `Concepts.FILM` correspond to ids in the Wikidata database which can be searched at https://www.wikidata.org/). `wl` is a namespace for Wikilanguage-specific queries implemented in `pandas_helper.py`"
   ]
  },
  {
   "cell_type": "markdown",
   "metadata": {},
   "source": [
    "The most culturally relevant movies rated by English speakers"
   ]
  },
  {
   "cell_type": "code",
   "execution_count": null,
   "metadata": {},
   "outputs": [],
   "source": [
    "df.wl.instance_of(Concepts.FILM).wl.top_ranked(\"enwiki\", n_display)"
   ]
  },
  {
   "cell_type": "markdown",
   "metadata": {},
   "source": [
    "We can calculate this to relative to other cultures by manually specifying another wiki (e.g. jawiki for Japan, itwiki for Italy or frwiki for France). Below are the most culturally relevant movies according to Italian wikipedia"
   ]
  },
  {
   "cell_type": "code",
   "execution_count": null,
   "metadata": {},
   "outputs": [],
   "source": [
    "print(\"Available wikis: \", \", \".join(pandas_helper.load_wikis(data_path)))\n",
    "df.wl.instance_of(Concepts.FILM).wl.top_ranked(\"itwiki\", n_display)"
   ]
  },
  {
   "cell_type": "markdown",
   "metadata": {},
   "source": [
    "Because movies are often global, there are a lot of duplicates between the Italian-identified movies and English-identified movies. A more interesting query is to determine which movies are \"trending\" in Italian Wikipedia relative to English Wikipedia. We do this through the \"kl divergence\" function which performs a trending calculation"
   ]
  },
  {
   "cell_type": "code",
   "execution_count": null,
   "metadata": {},
   "outputs": [],
   "source": [
    "df.wl.instance_of(Concepts.FILM).wl.kl_divergence(base_wiki=\"enwiki\", target_wiki=\"itwiki\", importance_weight=5).nlargest(n_display, \"kl_divergence\")[[\n",
    "    \"sample_label\", \"itwiki_title\", \"kl_divergence\", \"kl_relative_to_max\"\n",
    "]]"
   ]
  },
  {
   "cell_type": "markdown",
   "metadata": {},
   "source": [
    "An alternative is to instead consider Italian-made films under English or Italian wikipedia importance ranking, which gives an intuitive sense of \"the most culturally relevant Italian films\". In this case `Countries.ITALY` also resolves to a Wikidata id available at https://www.wikidata.org/"
   ]
  },
  {
   "cell_type": "code",
   "execution_count": null,
   "metadata": {},
   "outputs": [],
   "source": [
    "df.wl.instance_of(Concepts.FILM).wl.country_of_origin(Countries.ITALY).wl.top_ranked('itwiki', n_display)"
   ]
  },
  {
   "cell_type": "markdown",
   "metadata": {},
   "source": [
    "Since Wikidata is structured, we can also apply these types of rankings to group by a specific attribute (e.g. top ranked films by year)"
   ]
  },
  {
   "cell_type": "code",
   "execution_count": null,
   "metadata": {},
   "outputs": [],
   "source": [
    "df.wl.instance_of(Concepts.FILM).wl.top_by_year(n=n_display, top_col='enwiki_pagerank')[[\"sample_label\", \"publication_date\", \"enwiki_pagerank\"]]"
   ]
  },
  {
   "cell_type": "markdown",
   "metadata": {},
   "source": [
    "Finally, operators can be nested so we can find the most culturally relevant Italian films crunched by year"
   ]
  },
  {
   "cell_type": "code",
   "execution_count": null,
   "metadata": {},
   "outputs": [],
   "source": [
    "df.wl.instance_of(Concepts.FILM)\\\n",
    "    .wl.country_of_origin(Countries.ITALY)\\\n",
    "    .wl.top_by_year(n=n_display, top_col='itwiki_pagerank')\\\n",
    "    [[\"sample_label\", \"itwiki_title\", \"publication_date\", \"itwiki_pagerank\"]]"
   ]
  },
  {
   "cell_type": "markdown",
   "metadata": {},
   "source": [
    "### Other Concepts\n",
    "The same operators apply to other types of concepts beyond films. For a given article, you can figure out the concepts it belongs to by pressing the \"Edit Links\" button underneath languages on Wikipedia. The Wikidata page will state the article is an \"instance of\" some concept (e.g. https://en.wikipedia.org/wiki/Hypnotize_(The_Notorious_B.I.G._song) is an instance of single - [Q134556](https://www.wikidata.org/wiki/Q1629508)). Those concepts may also be a subclass of another concept, e.g. since is a subclass of \"release\" [Q2031291](https://www.wikidata.org/wiki/Q2031291)\n",
    "\n",
    "For example, here are the most culturally relevant singles for English speakers:"
   ]
  },
  {
   "cell_type": "code",
   "execution_count": null,
   "metadata": {},
   "outputs": [],
   "source": [
    "df.wl.instance_of(\"Q134556\").wl.top_ranked('enwiki', n_display)"
   ]
  },
  {
   "cell_type": "markdown",
   "metadata": {},
   "source": [
    "If articles underneath those concepts often have a publication date, then you can also crunch by date. For example, the most culturally relevant singles by year"
   ]
  },
  {
   "cell_type": "code",
   "execution_count": null,
   "metadata": {},
   "outputs": [],
   "source": [
    "df.wl.instance_of(\"Q134556\").wl.top_by_year(n=(n_display*2), top_col='enwiki_pagerank')[[\"enwiki_title\", \"publication_date\", \"enwiki_pagerank\"]][n_display:]"
   ]
  },
  {
   "cell_type": "markdown",
   "metadata": {},
   "source": [
    "Wikidata gets pretty wacky, so you can rank all kinds of strange things. Here are the most culturally relevant **humans**"
   ]
  },
  {
   "cell_type": "code",
   "execution_count": null,
   "metadata": {},
   "outputs": [],
   "source": [
    "df.wl.instance_of(Concepts.HUMAN).wl.top_ranked(n=n_display_short, wiki='enwiki') "
   ]
  },
  {
   "cell_type": "markdown",
   "metadata": {},
   "source": [
    "Or the most culturally relevant **wonders of the ancient world**"
   ]
  },
  {
   "cell_type": "code",
   "execution_count": null,
   "metadata": {},
   "outputs": [],
   "source": [
    "df.wl.instance_of(Concepts.WONDERS_OF_THE_ANCIENT_WORLD).wl.top_ranked(n=n_display_short, wiki='enwiki') "
   ]
  },
  {
   "cell_type": "markdown",
   "metadata": {},
   "source": [
    "My workflow is typically to find an article then look-up the Wikidata entry, find the concept id and start crunching. For example [Pizza](https://en.wikipedia.org/wiki/Pizza) -> [Instance of Types of Food or Dish](https://www.wikidata.org/wiki/Q177) -> [Types of Food or Dish (Q19861951)](https://www.wikidata.org/wiki/Q19861951)"
   ]
  },
  {
   "cell_type": "code",
   "execution_count": null,
   "metadata": {},
   "outputs": [],
   "source": [
    "df.wl.instance_of('Q19861951').wl.top_ranked(n=n_display_short, wiki='enwiki') "
   ]
  },
  {
   "cell_type": "markdown",
   "metadata": {},
   "source": [
    "You can also use this in reverse to find the least relevant types of food or dish"
   ]
  },
  {
   "cell_type": "code",
   "execution_count": null,
   "metadata": {},
   "outputs": [],
   "source": [
    "df.wl.instance_of('Q19861951').wl.top_ranked(n=n_display_short, wiki='enwiki', desc=False) "
   ]
  },
  {
   "cell_type": "markdown",
   "metadata": {},
   "source": [
    "## Geographic Queries"
   ]
  },
  {
   "cell_type": "markdown",
   "metadata": {},
   "source": [
    "Many Wikipedia articles also contain co-ordinates within Wikidata. That means we can do searches relative to a locality. For example, the most culturally relevant tourist attractions near Palo Alto"
   ]
  },
  {
   "cell_type": "code",
   "execution_count": null,
   "metadata": {},
   "outputs": [],
   "source": [
    "palo_alto = df.wl.resolve(\"Palo Alto, California\", col=\"enwiki_title\")\n",
    "palo_alto.wl.within_radius(df, 50).wl.instance_of(Concepts.TOURIST_ATTRACTION).wl.top_ranked('enwiki', n_display)[['sample_label', 'enwiki_pagerank']]"
   ]
  },
  {
   "cell_type": "markdown",
   "metadata": {},
   "source": [
    "This also works with other Wikipedias, for example what are more culturally relevant tourist attractions to Italians than English speakers?"
   ]
  },
  {
   "cell_type": "code",
   "execution_count": null,
   "metadata": {},
   "outputs": [],
   "source": [
    "palo_alto = df.wl.resolve(\"Palo Alto, California\", col=\"enwiki_title\")\n",
    "palo_alto.wl.within_radius(df, 50)\\\n",
    "    .wl.instance_of(Concepts.TOURIST_ATTRACTION)\\\n",
    "    .wl.kl_divergence(base_wiki=\"enwiki\", target_wiki=\"itwiki\", importance_weight=5)\\\n",
    "    .nlargest(n_display, \"kl_divergence\")\\\n",
    "    [['sample_label', 'kl_divergence']]"
   ]
  },
  {
   "cell_type": "markdown",
   "metadata": {},
   "source": [
    "Perhaps this is more interesting when we consider tourist attractions or museums in other countries. What do English speakers find in Rome?"
   ]
  },
  {
   "cell_type": "code",
   "execution_count": null,
   "metadata": {},
   "outputs": [],
   "source": [
    "rome = df.wl.resolve(\"Rome\", col=\"enwiki_title\")\n",
    "rome.wl.within_radius(df, 50)\\\n",
    "    .wl.instance_of(Concepts.TOURIST_ATTRACTION)\\\n",
    "    .wl.top_ranked('enwiki', n_display)"
   ]
  },
  {
   "cell_type": "markdown",
   "metadata": {},
   "source": [
    "But what hidden gems Italians know that English speakers don't about tourist attractions?"
   ]
  },
  {
   "cell_type": "code",
   "execution_count": null,
   "metadata": {},
   "outputs": [],
   "source": [
    "rome = df.wl.resolve(\"Rome\", col=\"enwiki_title\")\n",
    "rome.wl.within_radius(df, 50)\\\n",
    "    .wl.instance_of(Concepts.TOURIST_ATTRACTION)\\\n",
    "    .wl.kl_divergence(base_wiki=\"enwiki\", target_wiki=\"itwiki\", importance_weight=5)\\\n",
    "    .nlargest(n_display, \"kl_divergence\")\\\n",
    "    [['sample_label', 'kl_divergence']]"
   ]
  },
  {
   "cell_type": "markdown",
   "metadata": {},
   "source": [
    "Or top museums according to Italians?"
   ]
  },
  {
   "cell_type": "code",
   "execution_count": null,
   "metadata": {},
   "outputs": [],
   "source": [
    "rome = df.wl.resolve(\"Rome\", col=\"enwiki_title\")\n",
    "rome.wl.within_radius(df, 50)\\\n",
    "    .wl.instance_of(Concepts.MUSEUM)\\\n",
    "    .wl.top_ranked(\"itwiki\", n_display)"
   ]
  }
 ],
 "metadata": {
  "kernelspec": {
   "display_name": "Python 3",
   "language": "python",
   "name": "python3"
  },
  "language_info": {
   "codemirror_mode": {
    "name": "ipython",
    "version": 3
   },
   "file_extension": ".py",
   "mimetype": "text/x-python",
   "name": "python",
   "nbconvert_exporter": "python",
   "pygments_lexer": "ipython3",
   "version": "3.7.6"
  }
 },
 "nbformat": 4,
 "nbformat_minor": 4
}
