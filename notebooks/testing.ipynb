{
 "cells": [
  {
   "cell_type": "code",
   "execution_count": 1,
   "metadata": {},
   "outputs": [],
   "source": [
    "%load_ext autoreload\n",
    "%autoreload 2\n",
    "import sys\n",
    "import shelve\n",
    "sys.path.insert(0, \"../\")"
   ]
  },
  {
   "cell_type": "code",
   "execution_count": 2,
   "metadata": {},
   "outputs": [],
   "source": [
    "from pathlib import Path\n",
    "import wikilanguage\n",
    "import pipelines\n",
    "from wikidata_parser import WikiDataInheritanceGraph\n",
    "data_path = Path(\"/mnt/evo/projects/wikilanguage/data/20200101\")\n",
    "wikidata_path = data_path / \"wikidata-20200113-all.json.gz\""
   ]
  },
  {
   "cell_type": "code",
   "execution_count": 7,
   "metadata": {},
   "outputs": [],
   "source": [
    "enwiki_shelve = shelve.open(\"/home/tdimson/projects/wikilanguage/working-dir/enwiki\")"
   ]
  },
  {
   "cell_type": "code",
   "execution_count": 8,
   "metadata": {},
   "outputs": [],
   "source": [
    "parent_finder = WikiDataInheritanceGraph.load(\"/home/tdimson/projects/wikilanguage/working-dir/inheritance.pickle\").parent_finder()"
   ]
  },
  {
   "cell_type": "code",
   "execution_count": null,
   "metadata": {},
   "outputs": [
    {
     "name": "stdout",
     "output_type": "stream",
     "text": [
      "Building (name -> concept) mapping\n"
     ]
    },
    {
     "data": {
      "application/vnd.jupyter.widget-view+json": {
       "model_id": "d782733080c843f18e608edfc3b30242",
       "version_major": 2,
       "version_minor": 0
      },
      "text/plain": [
       "HBox(children=(FloatProgress(value=0.0, max=71405561023.0), HTML(value='')))"
      ]
     },
     "metadata": {},
     "output_type": "display_data"
    },
    {
     "name": "stdout",
     "output_type": "stream",
     "text": [
      "WARN: Unexpected date {'mainsnak': {'snaktype': 'novalue', 'property': 'P577', 'datatype': 'time'}, 'type': 'statement', 'id': 'Q605211$16d4b38d-4849-e28d-c13e-d52087d1a986', 'rank': 'normal'}\n",
      "WARN: Unexpected date {'mainsnak': {'snaktype': 'novalue', 'property': 'P577', 'datatype': 'time'}, 'type': 'statement', 'id': 'Q3520551$CBB6430A-06AF-42D3-AFA5-01C0777D6B50', 'rank': 'normal'}\n",
      "WARN: Unexpected date {'mainsnak': {'snaktype': 'somevalue', 'property': 'P577', 'datatype': 'time'}, 'type': 'statement', 'id': 'Q5321402$fc93c60e-4f5a-54d2-ff8b-b4942ddcb74f', 'rank': 'normal'}\n",
      "WARN: Unexpected date {'mainsnak': {'snaktype': 'somevalue', 'property': 'P577', 'datatype': 'time'}, 'type': 'statement', 'id': 'Q5636226$5eeda3e3-442f-ab4c-76ec-e7b3d14a8071', 'rank': 'normal'}\n",
      "WARN: Unexpected date {'mainsnak': {'snaktype': 'somevalue', 'property': 'P577', 'datatype': 'time'}, 'type': 'statement', 'id': 'Q6728799$8c355fb6-4663-ed91-abec-a6f20687bad0', 'rank': 'normal'}\n",
      "WARN: Unexpected date {'mainsnak': {'snaktype': 'somevalue', 'property': 'P577', 'datatype': 'time'}, 'type': 'statement', 'id': 'Q7201030$a2e0556a-484f-69f5-f67f-82fcb170b780', 'rank': 'normal'}\n",
      "WARN: Unexpected date {'mainsnak': {'snaktype': 'novalue', 'property': 'P577', 'datatype': 'time'}, 'type': 'statement', 'id': 'Q7601014$9576107e-437b-0ed6-7925-bbf20dbae594', 'rank': 'normal'}\n",
      "WARN: Unexpected date {'mainsnak': {'snaktype': 'novalue', 'property': 'P577', 'datatype': 'time'}, 'type': 'statement', 'id': 'Q7767996$bd9e663d-49c1-ed73-565c-81b4e42a36a1', 'rank': 'normal', 'references': [{'hash': 'ca680d7c8164cdcae132b3001a36db55597060cd', 'snaks': {'P248': [{'snaktype': 'value', 'property': 'P248', 'datavalue': {'value': {'entity-type': 'item', 'numeric-id': 57205186, 'id': 'Q57205186'}, 'type': 'wikibase-entityid'}, 'datatype': 'wikibase-item'}], 'P304': [{'snaktype': 'value', 'property': 'P304', 'datavalue': {'value': '176', 'type': 'string'}, 'datatype': 'string'}]}, 'snaks-order': ['P248', 'P304']}]}\n",
      "WARN: Unexpected date {'mainsnak': {'snaktype': 'novalue', 'property': 'P577', 'datatype': 'time'}, 'type': 'statement', 'id': 'Q17092250$bde8288c-424a-49bf-ef9b-12d8f9196327', 'rank': 'normal', 'references': [{'hash': 'b069021e71ce6010c46390083d3c6063ebc4d651', 'snaks': {'P248': [{'snaktype': 'value', 'property': 'P248', 'datavalue': {'value': {'entity-type': 'item', 'numeric-id': 57205186, 'id': 'Q57205186'}, 'type': 'wikibase-entityid'}, 'datatype': 'wikibase-item'}], 'P304': [{'snaktype': 'value', 'property': 'P304', 'datavalue': {'value': '139', 'type': 'string'}, 'datatype': 'string'}], 'P1683': [{'snaktype': 'value', 'property': 'P1683', 'datavalue': {'value': {'text': 'The film [...] was not released', 'language': 'en'}, 'type': 'monolingualtext'}, 'datatype': 'monolingualtext'}]}, 'snaks-order': ['P248', 'P304', 'P1683']}]}\n",
      "WARN: ( ) missing value error during parsing {'time': '+1997-09-31T00:00:00Z', 'timezone': 0, 'before': 0, 'after': 0, 'precision': 11, 'calendarmodel': 'http://www.wikidata.org/entity/Q1985727'}\n",
      "\n",
      "\n",
      "\n",
      "\n",
      "\n",
      "\n"
     ]
    }
   ],
   "source": [
    "nm = pipelines.write_full_wiki_csv(\n",
    "    wikidata_path=str(wikidata_path),\n",
    "    #output_path=str(data_path / \"enwiki.tsv\"),\n",
    "    output_path=str(data_path / \"enwiki.tsv\"),\n",
    "    article_shelf=enwiki_shelve,\n",
    "    wiki_name=\"enwiki\",\n",
    "    parent_finder=parent_finder,\n",
    ")"
   ]
  },
  {
   "cell_type": "code",
   "execution_count": 31,
   "metadata": {},
   "outputs": [
    {
     "data": {
      "text/plain": [
       "'Q31'"
      ]
     },
     "execution_count": 31,
     "metadata": {},
     "output_type": "execute_result"
    }
   ],
   "source": []
  }
 ],
 "metadata": {
  "kernelspec": {
   "display_name": "Python [conda env:wikilanguage_new] *",
   "language": "python",
   "name": "conda-env-wikilanguage_new-py"
  },
  "language_info": {
   "codemirror_mode": {
    "name": "ipython",
    "version": 3
   },
   "file_extension": ".py",
   "mimetype": "text/x-python",
   "name": "python",
   "nbconvert_exporter": "python",
   "pygments_lexer": "ipython3",
   "version": "3.7.6"
  }
 },
 "nbformat": 4,
 "nbformat_minor": 4
}
