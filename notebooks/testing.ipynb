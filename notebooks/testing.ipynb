{
 "cells": [
  {
   "cell_type": "code",
   "execution_count": 1,
   "metadata": {},
   "outputs": [],
   "source": [
    "%load_ext autoreload\n",
    "%autoreload 2\n",
    "import sys\n",
    "sys.path.insert(0, \"../\")\n",
    "import logging \n",
    "logging.basicConfig(level=logging.INFO)"
   ]
  },
  {
   "cell_type": "code",
   "execution_count": 2,
   "metadata": {},
   "outputs": [],
   "source": [
    "import shelve\n",
    "from pathlib import Path\n",
    "import wikilanguage\n",
    "import itertools\n",
    "import pipelines\n",
    "from wikidata_parser import WikiDataParser\n",
    "from wikidata_parser import WikiDataInheritanceGraph\n",
    "data_path = Path(\"/mnt/evo/projects/wikilanguage/data/20200701\")\n",
    "wikidata_path = data_path / \"wikidata-20200706-all.json.gz\"\n",
    "old_wikidata_path = Path(\"/mnt/evo/projects/wikilanguage/data/20200101/wikidata-20200113-all.json.gz\")"
   ]
  },
  {
   "cell_type": "code",
   "execution_count": 3,
   "metadata": {},
   "outputs": [
    {
     "name": "stdout",
     "output_type": "stream",
     "text": [
      "CPU times: user 1min 26s, sys: 1.32 s, total: 1min 27s\n",
      "Wall time: 1min 27s\n"
     ]
    }
   ],
   "source": [
    "%time enwiki_shelve = shelve.open(\"/home/tdimson/projects/wikilanguage/working-dir-20200701/enwiki\")"
   ]
  },
  {
   "cell_type": "code",
   "execution_count": null,
   "metadata": {},
   "outputs": [],
   "source": [
    "enwiki_old_shelve = shelve.open(\"/mnt/evo/projects/wikilanguage/data/working-dir/enwiki\")"
   ]
  },
  {
   "cell_type": "code",
   "execution_count": 4,
   "metadata": {},
   "outputs": [
    {
     "name": "stdout",
     "output_type": "stream",
     "text": [
      "CPU times: user 1min 32s, sys: 11.8 s, total: 1min 44s\n",
      "Wall time: 1min 44s\n"
     ]
    }
   ],
   "source": [
    "%time parent_finder = WikiDataInheritanceGraph.load(\"/home/tdimson/projects/wikilanguage/working-dir-20200701/inheritance.pickle\").parent_finder()"
   ]
  },
  {
   "cell_type": "code",
   "execution_count": 5,
   "metadata": {},
   "outputs": [
    {
     "name": "stdout",
     "output_type": "stream",
     "text": [
      "CPU times: user 9min 51s, sys: 34.1 s, total: 10min 26s\n",
      "Wall time: 10min 29s\n"
     ]
    }
   ],
   "source": [
    "%time alias_map = pipelines.build_alias_map(enwiki_shelve)"
   ]
  },
  {
   "cell_type": "code",
   "execution_count": null,
   "metadata": {},
   "outputs": [],
   "source": [
    "def print_stats(wikidata_path, shelve, wiki_name, alias_map, sample_size=2000):\n",
    "    num_no_title = 0\n",
    "    num_empty = 0\n",
    "    num_considered = 0\n",
    "    num_missing_article = 0\n",
    "    num_aliases = 0\n",
    "    for line in itertools.islice(pipelines.buffered_lines_with_progress(wikidata_path), sample_size):\n",
    "        num_considered += 1\n",
    "        entry = WikiDataParser.parse_dump_line(line, whitelisted_wikis={wiki_name})\n",
    "        if not entry:\n",
    "            num_empty += 1\n",
    "            continue\n",
    "            \n",
    "        wiki_title = entry.titles_by_wiki.get(wiki_name)\n",
    "        if not wiki_title:\n",
    "            num_no_title += 1\n",
    "            continue\n",
    "            \n",
    "        if wiki_title in alias_map:\n",
    "            wiki_title = alias_map[wiki_title]\n",
    "            num_aliases += 1\n",
    "        \n",
    "        if not shelve.get(wiki_title):\n",
    "            if num_missing_article % 100 == 0:\n",
    "                print(f\"Sample missing article for {entry.id}: '{wiki_title}'\")\n",
    "            num_missing_article += 1\n",
    "            continue\n",
    "            \n",
    "    \n",
    "    print(f\"\"\"\n",
    "Considered: {num_considered}\n",
    "Empty: {(100 * num_empty / num_considered):.2f}%\n",
    "{wiki_name} Aliases: {100 * num_aliases / num_considered:.2f}%\n",
    "{wiki_name} Missing Title: {100 * num_no_title / num_considered:.2f}%\n",
    "{wiki_name} Missing Article: {100 * num_missing_article / num_considered:.2f}%\n",
    "    \"\"\".strip())"
   ]
  },
  {
   "cell_type": "code",
   "execution_count": null,
   "metadata": {},
   "outputs": [],
   "source": [
    "print_stats(wikidata_path, enwiki_shelve, \"enwiki\", alias_new, sample_size=1_000_000)"
   ]
  },
  {
   "cell_type": "code",
   "execution_count": null,
   "metadata": {},
   "outputs": [
    {
     "name": "stderr",
     "output_type": "stream",
     "text": [
      "INFO:root:Writing TSV\n"
     ]
    },
    {
     "data": {
      "application/vnd.jupyter.widget-view+json": {
       "model_id": "140e27c75d5647f4abc2ee800cbb8d87",
       "version_major": 2,
       "version_minor": 0
      },
      "text/plain": [
       "HBox(children=(FloatProgress(value=0.0, max=86972229007.0), HTML(value='')))"
      ]
     },
     "metadata": {},
     "output_type": "display_data"
    },
    {
     "name": "stdout",
     "output_type": "stream",
     "text": [
      "WARN: Unexpected date in 'Sarashina Nikki' line Q217955: {'mainsnak': {'snaktype': 'somevalue', 'property': 'P577', 'datatype': 'time'}, 'type': 'statement', 'id': 'Q217955$59378273-44d7-f4dc-b465-d868274e2c43', 'rank': 'normal'}\n",
      "WARN: Unexpected date in 'StarCraft: Ghost' line Q605211: {'mainsnak': {'snaktype': 'novalue', 'property': 'P577', 'datatype': 'time'}, 'type': 'statement', 'id': 'Q605211$16d4b38d-4849-e28d-c13e-d52087d1a986', 'rank': 'normal'}\n",
      "WARN: Unexpected date in 'Book on Numbers and Computation' line Q848171: {'mainsnak': {'snaktype': 'somevalue', 'property': 'P577', 'datatype': 'time'}, 'type': 'statement', 'qualifiers': {'P1319': [{'snaktype': 'value', 'property': 'P1319', 'hash': 'bda5cb13f4da62b38206b6e8fd1955881b2fb1ec', 'datavalue': {'value': {'time': '-0186-00-00T00:00:00Z', 'timezone': 0, 'before': 0, 'after': 0, 'precision': 9, 'calendarmodel': 'http://www.wikidata.org/entity/Q1985786'}, 'type': 'time'}, 'datatype': 'time'}]}, 'qualifiers-order': ['P1319'], 'id': 'Q848171$7799a5db-4e40-afd0-cdb4-fd9cc20ef441', 'rank': 'normal'}\n",
      "WARN: Unexpected date in 'The Deep' line Q3520551: {'mainsnak': {'snaktype': 'novalue', 'property': 'P577', 'datatype': 'time'}, 'type': 'statement', 'id': 'Q3520551$CBB6430A-06AF-42D3-AFA5-01C0777D6B50', 'rank': 'normal'}\n",
      "WARN: Unexpected date in 'e-GMS' line Q5321402: {'mainsnak': {'snaktype': 'somevalue', 'property': 'P577', 'datatype': 'time'}, 'type': 'statement', 'id': 'Q5321402$fc93c60e-4f5a-54d2-ff8b-b4942ddcb74f', 'rank': 'normal'}\n",
      "WARN: Unexpected date in 'HVLAN' line Q5636226: {'mainsnak': {'snaktype': 'somevalue', 'property': 'P577', 'datatype': 'time'}, 'type': 'statement', 'id': 'Q5636226$5eeda3e3-442f-ab4c-76ec-e7b3d14a8071', 'rank': 'normal'}\n",
      "WARN: Unexpected date in 'Shiben' line Q6351040: {'mainsnak': {'snaktype': 'somevalue', 'property': 'P577', 'datatype': 'time'}, 'type': 'statement', 'qualifiers': {'P1326': [{'snaktype': 'value', 'property': 'P1326', 'hash': '347c87924cddbe9ebcf33e9b6ff32599b0cd5674', 'datavalue': {'value': {'time': '-0221-00-00T00:00:00Z', 'timezone': 0, 'before': 0, 'after': 0, 'precision': 9, 'calendarmodel': 'http://www.wikidata.org/entity/Q1985786'}, 'type': 'time'}, 'datatype': 'time'}]}, 'qualifiers-order': ['P1326'], 'id': 'Q6351040$ca665add-4df1-5d16-d692-54949d8c6bf7', 'rank': 'normal'}\n",
      "WARN: Unexpected date in 'Madura Vijayam' line Q6728799: {'mainsnak': {'snaktype': 'somevalue', 'property': 'P577', 'datatype': 'time'}, 'type': 'statement', 'id': 'Q6728799$8c355fb6-4663-ed91-abec-a6f20687bad0', 'rank': 'normal'}\n",
      "WARN: Unexpected date in 'Planes of Chaos' line Q7201030: {'mainsnak': {'snaktype': 'somevalue', 'property': 'P577', 'datatype': 'time'}, 'type': 'statement', 'id': 'Q7201030$a2e0556a-484f-69f5-f67f-82fcb170b780', 'rank': 'normal'}\n",
      "WARN: Unexpected date in 'Star Trek: The Next Generation: A World For All Seasons' line Q7601014: {'mainsnak': {'snaktype': 'novalue', 'property': 'P577', 'datatype': 'time'}, 'type': 'statement', 'id': 'Q7601014$9576107e-437b-0ed6-7925-bbf20dbae594', 'rank': 'normal'}\n",
      "WARN: Unexpected date in 'The Tale of the Priest and of His Workman Balda' line Q7767996: {'mainsnak': {'snaktype': 'novalue', 'property': 'P577', 'datatype': 'time'}, 'type': 'statement', 'id': 'Q7767996$bd9e663d-49c1-ed73-565c-81b4e42a36a1', 'rank': 'normal', 'references': [{'hash': 'ca680d7c8164cdcae132b3001a36db55597060cd', 'snaks': {'P248': [{'snaktype': 'value', 'property': 'P248', 'datavalue': {'value': {'entity-type': 'item', 'numeric-id': 57205186, 'id': 'Q57205186'}, 'type': 'wikibase-entityid'}, 'datatype': 'wikibase-item'}], 'P304': [{'snaktype': 'value', 'property': 'P304', 'datavalue': {'value': '176', 'type': 'string'}, 'datatype': 'string'}]}, 'snaks-order': ['P248', 'P304']}]}\n",
      "WARN: Unexpected date in 'Tiruvalluva Maalai' line Q12984274: {'mainsnak': {'snaktype': 'somevalue', 'property': 'P577', 'datatype': 'time'}, 'type': 'statement', 'qualifiers': {'P1319': [{'snaktype': 'value', 'property': 'P1319', 'hash': '0afd8f14c88d1b4819603ae18a033fdb8bffa1cc', 'datavalue': {'value': {'time': '+1100-00-00T00:00:00Z', 'timezone': 0, 'before': 0, 'after': 0, 'precision': 7, 'calendarmodel': 'http://www.wikidata.org/entity/Q1985786'}, 'type': 'time'}, 'datatype': 'time'}]}, 'qualifiers-order': ['P1319'], 'id': 'Q12984274$f40e88de-426b-ee8c-eb51-0ff14bbced99', 'rank': 'normal'}\n",
      "WARN: Unexpected date in 'The Idea' line Q17092250: {'mainsnak': {'snaktype': 'novalue', 'property': 'P577', 'datatype': 'time'}, 'type': 'statement', 'id': 'Q17092250$bde8288c-424a-49bf-ef9b-12d8f9196327', 'rank': 'normal', 'references': [{'hash': 'b069021e71ce6010c46390083d3c6063ebc4d651', 'snaks': {'P248': [{'snaktype': 'value', 'property': 'P248', 'datavalue': {'value': {'entity-type': 'item', 'numeric-id': 57205186, 'id': 'Q57205186'}, 'type': 'wikibase-entityid'}, 'datatype': 'wikibase-item'}], 'P304': [{'snaktype': 'value', 'property': 'P304', 'datavalue': {'value': '139', 'type': 'string'}, 'datatype': 'string'}], 'P1683': [{'snaktype': 'value', 'property': 'P1683', 'datavalue': {'value': {'text': 'The film [...] was not released', 'language': 'en'}, 'type': 'monolingualtext'}, 'datatype': 'monolingualtext'}]}, 'snaks-order': ['P248', 'P304', 'P1683']}]}\n",
      "WARN: ( ) missing value error during parsing {'time': '+1997-09-31T00:00:00Z', 'timezone': 0, 'before': 0, 'after': 0, 'precision': 11, 'calendarmodel': 'http://www.wikidata.org/entity/Q1985727'}\n",
      "WARN: Unexpected date in 'Wonders of the Sea 3D' line Q60738665: {'mainsnak': {'snaktype': 'somevalue', 'property': 'P577', 'datatype': 'time'}, 'type': 'statement', 'qualifiers': {'P291': [{'snaktype': 'value', 'property': 'P291', 'hash': 'a15ed95482d52eea03d59e098dae9e31dafef9bd', 'datavalue': {'value': {'entity-type': 'item', 'numeric-id': 183, 'id': 'Q183'}, 'type': 'wikibase-entityid'}, 'datatype': 'wikibase-item'}]}, 'qualifiers-order': ['P291'], 'id': 'Q60738665$b76ca622-4249-5da2-db8a-ae252147fbba', 'rank': 'normal'}\n",
      "WARN: Unexpected date in 'Maneater' line Q62393478: {'mainsnak': {'snaktype': 'somevalue', 'property': 'P577', 'datatype': 'time'}, 'type': 'statement', 'qualifiers': {'P291': [{'snaktype': 'value', 'property': 'P291', 'hash': '2ec842429414903614fe656be81c1171d3583877', 'datavalue': {'value': {'entity-type': 'item', 'numeric-id': 13780930, 'id': 'Q13780930'}, 'type': 'wikibase-entityid'}, 'datatype': 'wikibase-item'}], 'P400': [{'snaktype': 'value', 'property': 'P400', 'hash': '2e31cb0a82f44474a5c42bb159a94cc48633fffd', 'datavalue': {'value': {'entity-type': 'item', 'numeric-id': 19610114, 'id': 'Q19610114'}, 'type': 'wikibase-entityid'}, 'datatype': 'wikibase-item'}]}, 'qualifiers-order': ['P291', 'P400'], 'id': 'Q62393478$eaf3179b-4973-9cca-96ea-cabb65a13ddc', 'rank': 'normal'}\n",
      "WARN: Unexpected date in 'Transport Fever 2' line Q64767820: {'mainsnak': {'snaktype': 'novalue', 'property': 'P577', 'datatype': 'time'}, 'type': 'statement', 'id': 'Q64767820$4c7d43f5-4f91-15a4-e503-eaf05eb1bf33', 'rank': 'normal'}\n",
      "WARN: Unexpected date in 'The Green Knight' line Q65091255: {'mainsnak': {'snaktype': 'somevalue', 'property': 'P577', 'datatype': 'time'}, 'type': 'statement', 'qualifiers': {'P291': [{'snaktype': 'value', 'property': 'P291', 'hash': 'a15ed95482d52eea03d59e098dae9e31dafef9bd', 'datavalue': {'value': {'entity-type': 'item', 'numeric-id': 183, 'id': 'Q183'}, 'type': 'wikibase-entityid'}, 'datatype': 'wikibase-item'}]}, 'qualifiers-order': ['P291'], 'id': 'Q65091255$f2661be6-4d5c-7a66-7065-4a54de7653e0', 'rank': 'normal'}\n",
      "WARN: Unexpected date in 'Military Wives' line Q73543261: {'mainsnak': {'snaktype': 'somevalue', 'property': 'P577', 'datatype': 'time'}, 'type': 'statement', 'qualifiers': {'P291': [{'snaktype': 'value', 'property': 'P291', 'hash': 'a15ed95482d52eea03d59e098dae9e31dafef9bd', 'datavalue': {'value': {'entity-type': 'item', 'numeric-id': 183, 'id': 'Q183'}, 'type': 'wikibase-entityid'}, 'datatype': 'wikibase-item'}]}, 'qualifiers-order': ['P291'], 'id': 'Q73543261$481f93cb-4dbb-c7ac-76b9-dd6f803d3868', 'rank': 'normal'}\n",
      "WARN: Unexpected date in 'God's Country' line Q85771140: {'mainsnak': {'snaktype': 'somevalue', 'property': 'P577', 'datatype': 'time'}, 'type': 'statement', 'id': 'Q85771140$9d8df4e9-4fdd-cedc-a598-8b92554675cd', 'rank': 'normal'}\n",
      "WARN: Unexpected date in 'Zhou Bi Suan Jing' line Q198052: {'mainsnak': {'snaktype': 'somevalue', 'property': 'P577', 'datatype': 'time'}, 'type': 'statement', 'qualifiers': {'P1326': [{'snaktype': 'value', 'property': 'P1326', 'hash': 'dc003ff1830962f7f8143b6c079102a20631d187', 'datavalue': {'value': {'time': '+0263-00-00T00:00:00Z', 'timezone': 0, 'before': 0, 'after': 0, 'precision': 9, 'calendarmodel': 'http://www.wikidata.org/entity/Q1985786'}, 'type': 'time'}, 'datatype': 'time'}]}, 'qualifiers-order': ['P1326'], 'id': 'Q198052$b8e71597-4391-f677-7c59-9f61335f1d91', 'rank': 'normal'}\n",
      "WARN: Unexpected date in 'Enmannsche Kaisergeschichte' line Q488217: {'mainsnak': {'snaktype': 'somevalue', 'property': 'P577', 'datatype': 'time'}, 'type': 'statement', 'qualifiers': {'P1319': [{'snaktype': 'value', 'property': 'P1319', 'hash': 'c38d9ea93e7f646a1516828b605c6b5d5e098aca', 'datavalue': {'value': {'time': '+0337-00-00T00:00:00Z', 'timezone': 0, 'before': 0, 'after': 0, 'precision': 9, 'calendarmodel': 'http://www.wikidata.org/entity/Q1985786'}, 'type': 'time'}, 'datatype': 'time'}], 'P1326': [{'snaktype': 'value', 'property': 'P1326', 'hash': '7047ca2c7a1efcc4f845836456734cc7e15f197e', 'datavalue': {'value': {'time': '+0357-00-00T00:00:00Z', 'timezone': 0, 'before': 0, 'after': 0, 'precision': 9, 'calendarmodel': 'http://www.wikidata.org/entity/Q1985786'}, 'type': 'time'}, 'datatype': 'time'}]}, 'qualifiers-order': ['P1319', 'P1326'], 'id': 'Q488217$3f9815b9-4796-f802-6132-04af04c4d452', 'rank': 'normal'}\n",
      "WARN: Unexpected date in 'Chunhyangjeon' line Q717065: {'mainsnak': {'snaktype': 'somevalue', 'property': 'P577', 'datatype': 'time'}, 'type': 'statement', 'qualifiers': {'P1319': [{'snaktype': 'value', 'property': 'P1319', 'hash': 'b040f92317de20038db2345d7c9e489e590efbba', 'datavalue': {'value': {'time': '+1694-00-00T00:00:00Z', 'timezone': 0, 'before': 0, 'after': 0, 'precision': 9, 'calendarmodel': 'http://www.wikidata.org/entity/Q1985727'}, 'type': 'time'}, 'datatype': 'time'}]}, 'qualifiers-order': ['P1319'], 'id': 'Q717065$42dfda93-4a9a-2f65-c612-235e2c42f4ad', 'rank': 'normal'}\n",
      "WARN: Unexpected date in 'Tableau encyclopédique et méthodique' line Q780342: {'mainsnak': {'snaktype': 'somevalue', 'property': 'P577', 'datatype': 'time'}, 'type': 'statement', 'qualifiers': {'P580': [{'snaktype': 'value', 'property': 'P580', 'hash': '40f7e96ea78a9c474d41bbef135ca93ad1d443bd', 'datavalue': {'value': {'time': '+1788-00-00T00:00:00Z', 'timezone': 0, 'before': 0, 'after': 0, 'precision': 9, 'calendarmodel': 'http://www.wikidata.org/entity/Q1985727'}, 'type': 'time'}, 'datatype': 'time'}], 'P582': [{'snaktype': 'value', 'property': 'P582', 'hash': 'cc208cb06fe2ef7630c1f987871d2d19011ccd16', 'datavalue': {'value': {'time': '+1823-00-00T00:00:00Z', 'timezone': 0, 'before': 0, 'after': 0, 'precision': 9, 'calendarmodel': 'http://www.wikidata.org/entity/Q1985727'}, 'type': 'time'}, 'datatype': 'time'}]}, 'qualifiers-order': ['P580', 'P582'], 'id': 'Q780342$74C0167A-0A3F-4802-88DD-8DF48DF164B7', 'rank': 'normal'}\n",
      "WARN: Unexpected date in 'Judith' line Q1157209: {'mainsnak': {'snaktype': 'somevalue', 'property': 'P577', 'datatype': 'time'}, 'type': 'statement', 'id': 'Q1157209$1A33A71F-83A9-4D0D-9830-B9FEB5AABE91', 'rank': 'normal'}\n",
      "WARN: Unexpected date in 'Beyond Good & Evil 2' line Q2555753: {'mainsnak': {'snaktype': 'somevalue', 'property': 'P577', 'datatype': 'time'}, 'type': 'statement', 'id': 'Q2555753$6a6a6b94-42a8-0cb5-24aa-1998b53ebffb', 'rank': 'normal'}\n",
      "WARN: Unexpected date in '1905' line Q4300553: {'mainsnak': {'snaktype': 'novalue', 'property': 'P577', 'datatype': 'time'}, 'type': 'statement', 'id': 'Q4300553$5F0FB0F3-6299-4B8D-9A80-1436E23641A6', 'rank': 'normal'}\n",
      "WARN: Unexpected date in 'Bob's Game' line Q4931588: {'mainsnak': {'snaktype': 'novalue', 'property': 'P577', 'datatype': 'time'}, 'type': 'statement', 'id': 'Q4931588$9d1e0229-4ef2-cc81-78c0-0e5d8a4519bc', 'rank': 'normal'}\n",
      "WARN: Unexpected date in 'Elveon' line Q5368016: {'mainsnak': {'snaktype': 'novalue', 'property': 'P577', 'datatype': 'time'}, 'type': 'statement', 'id': 'Q5368016$ccccfc3d-4c26-e512-d657-5b007b7473c3', 'rank': 'normal'}\n",
      "WARN: Unexpected date in 'Gaha Sattasai' line Q5516899: {'mainsnak': {'snaktype': 'somevalue', 'property': 'P577', 'datatype': 'time'}, 'type': 'statement', 'qualifiers': {'P1319': [{'snaktype': 'value', 'property': 'P1319', 'hash': '9ea51163b9ffd438500855b621b649993211271e', 'datavalue': {'value': {'time': '+0020-00-00T00:00:00Z', 'timezone': 0, 'before': 0, 'after': 0, 'precision': 7, 'calendarmodel': 'http://www.wikidata.org/entity/Q1985786'}, 'type': 'time'}, 'datatype': 'time'}], 'P1326': [{'snaktype': 'value', 'property': 'P1326', 'hash': '4031642dcd0e5a6b36f9a717572c694736340622', 'datavalue': {'value': {'time': '+0640-00-00T00:00:00Z', 'timezone': 0, 'before': 0, 'after': 0, 'precision': 9, 'calendarmodel': 'http://www.wikidata.org/entity/Q1985786'}, 'type': 'time'}, 'datatype': 'time'}]}, 'qualifiers-order': ['P1319', 'P1326'], 'id': 'Q5516899$93dd5a11-4647-a712-4d52-145bff1cddda', 'rank': 'normal'}\n",
      "WARN: Unexpected date in 'Chronos Materia' line Q17216549: {'mainsnak': {'snaktype': 'novalue', 'property': 'P577', 'datatype': 'time'}, 'type': 'statement', 'id': 'Q17216549$53fc6ce7-48f5-ee33-e5aa-0af26e5cf65e', 'rank': 'normal'}\n",
      "WARN: Unexpected date in 'Alexandrian World Chronicle' line Q21100150: {'mainsnak': {'snaktype': 'somevalue', 'property': 'P577', 'datatype': 'time'}, 'type': 'statement', 'qualifiers': {'P1319': [{'snaktype': 'value', 'property': 'P1319', 'hash': '17ad799bb975c2709cfa185ab0f9d28b82b6f488', 'datavalue': {'value': {'time': '+0500-00-00T00:00:00Z', 'timezone': 0, 'before': 0, 'after': 0, 'precision': 7, 'calendarmodel': 'http://www.wikidata.org/entity/Q1985786'}, 'type': 'time'}, 'datatype': 'time'}], 'P1326': [{'snaktype': 'value', 'property': 'P1326', 'hash': '193327f89e0bbfcb9116d897957580e2e332ad3c', 'datavalue': {'value': {'time': '+0600-00-00T00:00:00Z', 'timezone': 0, 'before': 0, 'after': 0, 'precision': 7, 'calendarmodel': 'http://www.wikidata.org/entity/Q1985786'}, 'type': 'time'}, 'datatype': 'time'}]}, 'qualifiers-order': ['P1319', 'P1326'], 'id': 'Q21100150$97ad67ab-4602-20e6-f17e-fb24df9f550c', 'rank': 'normal'}\n",
      "WARN: Unexpected date in 'The Avengers' line Q28134322: {'mainsnak': {'snaktype': 'novalue', 'property': 'P577', 'datatype': 'time'}, 'type': 'statement', 'id': 'Q28134322$3d085800-44a4-6195-cde9-796845b86aa4', 'rank': 'normal'}\n",
      "WARN: Unexpected date in '1818' line Q28180356: {'mainsnak': {'snaktype': 'novalue', 'property': 'P577', 'datatype': 'time'}, 'type': 'statement', 'id': 'Q28180356$7ecd3087-4979-edb0-9933-256a52a60cae', 'rank': 'normal'}\n",
      "WARN: Unexpected date in 'Biomutant' line Q37877467: {'mainsnak': {'snaktype': 'novalue', 'property': 'P577', 'datatype': 'time'}, 'type': 'statement', 'id': 'Q37877467$f83dddc8-4d56-0d4b-68a5-baab8c591f18', 'rank': 'normal'}\n"
     ]
    }
   ],
   "source": [
    "nm = pipelines.write_full_wiki_csv(\n",
    "    wikidata_path=str(wikidata_path),\n",
    "    output_path=str(data_path / \"enwiki.tsv\"),\n",
    "    #output_path=\"test.tsv\",\n",
    "    article_shelf=enwiki_shelve,\n",
    "    wiki_name=\"enwiki\",\n",
    "    parent_finder=parent_finder,\n",
    "    alias_map=alias_map,\n",
    "    #limit=50000,\n",
    ")"
   ]
  },
  {
   "cell_type": "code",
   "execution_count": null,
   "metadata": {},
   "outputs": [],
   "source": []
  }
 ],
 "metadata": {
  "kernelspec": {
   "display_name": "Python [conda env:wikilanguage_new] *",
   "language": "python",
   "name": "conda-env-wikilanguage_new-py"
  },
  "language_info": {
   "codemirror_mode": {
    "name": "ipython",
    "version": 3
   },
   "file_extension": ".py",
   "mimetype": "text/x-python",
   "name": "python",
   "nbconvert_exporter": "python",
   "pygments_lexer": "ipython3",
   "version": "3.7.6"
  }
 },
 "nbformat": 4,
 "nbformat_minor": 4
}
