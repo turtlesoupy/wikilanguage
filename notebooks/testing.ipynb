{
 "cells": [
  {
   "cell_type": "code",
   "execution_count": 1,
   "metadata": {},
   "outputs": [],
   "source": [
    "%load_ext autoreload\n",
    "%autoreload 2\n",
    "import sys\n",
    "import shelve\n",
    "sys.path.insert(0, \"../\")"
   ]
  },
  {
   "cell_type": "code",
   "execution_count": 2,
   "metadata": {},
   "outputs": [],
   "source": [
    "from pathlib import Path\n",
    "import wikilanguage\n",
    "import pipelines\n",
    "from wikidata_parser import WikiDataInheritanceGraph\n",
    "data_path = Path(\"/mnt/evo/projects/wikilanguage/data/20200101\")\n",
    "wikidata_path = data_path / \"wikidata-20200113-all.json.gz\""
   ]
  },
  {
   "cell_type": "code",
   "execution_count": 7,
   "metadata": {},
   "outputs": [],
   "source": [
    "enwiki_shelve = shelve.open(\"/home/tdimson/projects/wikilanguage/working-dir/enwiki\")"
   ]
  },
  {
   "cell_type": "code",
   "execution_count": 8,
   "metadata": {},
   "outputs": [],
   "source": [
    "parent_finder = WikiDataInheritanceGraph.load(\"/home/tdimson/projects/wikilanguage/working-dir/inheritance.pickle\").parent_finder()"
   ]
  },
  {
   "cell_type": "code",
   "execution_count": 34,
   "metadata": {},
   "outputs": [
    {
     "name": "stdout",
     "output_type": "stream",
     "text": [
      "CSV Write: Starting\n"
     ]
    },
    {
     "data": {
      "application/vnd.jupyter.widget-view+json": {
       "model_id": "45fc66707bd0410285a1a34659850eb1",
       "version_major": 2,
       "version_minor": 0
      },
      "text/plain": [
       "HBox(children=(FloatProgress(value=0.0, max=71405561023.0), HTML(value='')))"
      ]
     },
     "metadata": {},
     "output_type": "display_data"
    }
   ],
   "source": [
    "nm = pipelines.write_full_wiki_csv(\n",
    "    wikidata_path=str(wikidata_path),\n",
    "    #output_path=str(data_path / \"enwiki.tsv\"),\n",
    "    output_path=\"test.tsv\",\n",
    "    article_shelf=enwiki_shelve,\n",
    "    wiki_name=\"enwiki\",\n",
    "    parent_finder=parent_finder,\n",
    "    limit=50000,\n",
    ")"
   ]
  },
  {
   "cell_type": "code",
   "execution_count": 31,
   "metadata": {},
   "outputs": [
    {
     "data": {
      "text/plain": [
       "'Q31'"
      ]
     },
     "execution_count": 31,
     "metadata": {},
     "output_type": "execute_result"
    }
   ],
   "source": []
  }
 ],
 "metadata": {
  "kernelspec": {
   "display_name": "Python [conda env:wikilanguage_new] *",
   "language": "python",
   "name": "conda-env-wikilanguage_new-py"
  },
  "language_info": {
   "codemirror_mode": {
    "name": "ipython",
    "version": 3
   },
   "file_extension": ".py",
   "mimetype": "text/x-python",
   "name": "python",
   "nbconvert_exporter": "python",
   "pygments_lexer": "ipython3",
   "version": "3.7.6"
  }
 },
 "nbformat": 4,
 "nbformat_minor": 4
}
